{
 "cells": [
  {
   "cell_type": "markdown",
   "id": "524672e9",
   "metadata": {},
   "source": [
    "# KNN NOTES"
   ]
  },
  {
   "cell_type": "code",
   "execution_count": null,
   "id": "387c9b5d",
   "metadata": {},
   "outputs": [],
   "source": [
    "# One of the simplest ML algos.\n",
    "# Assigns a label to new data ased on the distance between the old data and new data.\n",
    "# K = 1 (1st closest point), K=3 (3 points) etc\n",
    "# if new point is tied: either choose odd number K, randomly break tie or choose nearest class point (K=1)"
   ]
  }
 ],
 "metadata": {
  "kernelspec": {
   "display_name": "Python 3 (ipykernel)",
   "language": "python",
   "name": "python3"
  },
  "language_info": {
   "codemirror_mode": {
    "name": "ipython",
    "version": 3
   },
   "file_extension": ".py",
   "mimetype": "text/x-python",
   "name": "python",
   "nbconvert_exporter": "python",
   "pygments_lexer": "ipython3",
   "version": "3.9.13"
  }
 },
 "nbformat": 4,
 "nbformat_minor": 5
}
