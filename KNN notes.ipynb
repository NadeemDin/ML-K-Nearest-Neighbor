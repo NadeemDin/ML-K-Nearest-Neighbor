{
 "cells": [
  {
   "cell_type": "markdown",
   "id": "fd988860",
   "metadata": {},
   "source": [
    "# KNN NOTES"
   ]
  },
  {
   "cell_type": "markdown",
   "id": "3e9eaaeb",
   "metadata": {},
   "source": [
    "*  Not a model thats widely used \n",
    "*  One of the simplest ML algos.\n",
    "*  Assigns a label to new data ased on the distance between the old data and new data.\n",
    "*  K = 1 (1st closest point), K=3 (3 points) etc\n",
    "*  if new point is tied: either choose odd number K, randomly break tie or choose nearest class point (K=1)"
   ]
  },
  {
   "cell_type": "markdown",
   "id": "1dd9fd90",
   "metadata": {},
   "source": [
    "* in skikit learn, in the result of a tie, the decision will be based on the ordering of the data\n",
    "* ... whatever appears first in set of neighbors as results are ordered by distance. - chooses nearest point"
   ]
  },
  {
   "cell_type": "markdown",
   "id": "f128dfb3",
   "metadata": {},
   "source": [
    "*  how to choose best value of K. or rather optimal k.\n",
    "*  Choose K value which minimizes error \n",
    "*  Error = 1 - Accuracy "
   ]
  },
  {
   "cell_type": "markdown",
   "id": "dd1e1cfe",
   "metadata": {},
   "source": [
    "# Two Methods to find optimal K value\n",
    "\n",
    "1. Elbow  Method (MANUAL METHOD)\n",
    "* Basically train model on varying K values and evaluate for best value/ markdown for best error value.\n",
    "* Sharp reduction in graph but then an elbow point where reduction becomes reduced per value of K\n",
    "\n",
    "2. Cross Validation (RECOMMENDED METHOD) in combination with Grid Search\n"
   ]
  },
  {
   "cell_type": "markdown",
   "id": "7ced0ad6",
   "metadata": {},
   "source": [
    "# How KNN works\n",
    "* Choose K value\n",
    "* Sort feature vectors (N dimensional space ) by distance metric\n",
    "* Choose class based on K nearest Feature vectors."
   ]
  },
  {
   "cell_type": "markdown",
   "id": "fd5efe6e",
   "metadata": {},
   "source": [
    "## KNN CONSIDERATIONS\n",
    "* Distance Metric: Many ways to measure distance:\n",
    "        * Minkowski\n",
    "        * Euclidean\n",
    "        * Manhattan\n",
    "        * Chebyshev"
   ]
  },
  {
   "cell_type": "markdown",
   "id": "6b0c7e58",
   "metadata": {},
   "source": [
    "*  Should we scale distance?\n",
    "*  Scale data before running KNN "
   ]
  },
  {
   "cell_type": "markdown",
   "id": "35e60b65",
   "metadata": {},
   "source": [
    "# HOW TO PERFORM KNN"
   ]
  },
  {
   "cell_type": "code",
   "execution_count": null,
   "id": "2447093c",
   "metadata": {},
   "outputs": [],
   "source": []
  }
 ],
 "metadata": {
  "kernelspec": {
   "display_name": "Python 3 (ipykernel)",
   "language": "python",
   "name": "python3"
  },
  "language_info": {
   "codemirror_mode": {
    "name": "ipython",
    "version": 3
   },
   "file_extension": ".py",
   "mimetype": "text/x-python",
   "name": "python",
   "nbconvert_exporter": "python",
   "pygments_lexer": "ipython3",
   "version": "3.9.13"
  }
 },
 "nbformat": 4,
 "nbformat_minor": 5
}
